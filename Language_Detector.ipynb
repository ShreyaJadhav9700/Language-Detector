{
  "nbformat": 4,
  "nbformat_minor": 0,
  "metadata": {
    "colab": {
      "provenance": []
    },
    "kernelspec": {
      "name": "python3",
      "display_name": "Python 3"
    },
    "language_info": {
      "name": "python"
    }
  },
  "cells": [
    {
      "cell_type": "code",
      "execution_count": null,
      "metadata": {
        "colab": {
          "base_uri": "https://localhost:8080/"
        },
        "id": "TidPBEy9IzIe",
        "outputId": "877004ff-38d2-42b5-cd03-35641dd7ae1d"
      },
      "outputs": [
        {
          "output_type": "stream",
          "name": "stderr",
          "text": [
            "[nltk_data] Downloading package stopwords to /root/nltk_data...\n",
            "[nltk_data]   Package stopwords is already up-to-date!\n"
          ]
        },
        {
          "output_type": "stream",
          "name": "stdout",
          "text": [
            "🔍 Language Detector\n",
            "Enter a sentence in any language: Das ist ein schönes Haus\n",
            "🌐 Detected Language: German\n"
          ]
        }
      ],
      "source": [
        "import nltk\n",
        "from nltk.corpus import stopwords\n",
        "\n",
        "# Download stopwords if not already downloaded\n",
        "nltk.download('stopwords')\n",
        "\n",
        "def detect_language(text):\n",
        "    languages_ratios = {}\n",
        "    words = text.lower().split()\n",
        "\n",
        "    for language in stopwords.fileids():\n",
        "        stop_words = set(stopwords.words(language))\n",
        "        common_words = set(words) & stop_words\n",
        "        languages_ratios[language] = len(common_words)\n",
        "\n",
        "    most_likely_language = max(languages_ratios, key=languages_ratios.get)\n",
        "    return most_likely_language\n",
        "\n",
        "# === User Input ===\n",
        "print(\"🔍 Language Detector\")\n",
        "user_text = input(\"Enter a sentence in any language: \")\n",
        "language = detect_language(user_text)\n",
        "print(\"🌐 Detected Language:\", language.capitalize())\n"
      ]
    }
  ]
}